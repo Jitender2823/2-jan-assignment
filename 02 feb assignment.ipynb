{
 "cells": [
  {
   "cell_type": "code",
   "execution_count": null,
   "id": "bd80ac75-9be9-484f-996f-e132d998298e",
   "metadata": {},
   "outputs": [],
   "source": [
    "Q1. Explain with an axample each when to use a for loop and a while loop.\n",
    "Answer- Both for loops and while loops are used to execute a block of code repeatedly. However, they are used in different scenarios.\n",
    "\n",
    "A for loop is used when you know the number of times you want to execute a block of code. For example, if you want to print the numbers from 1 to 10, you can use a for loop like this:\n",
    "\n",
    "for i in range(1, 11):\n",
    "    print(i)\n",
    "A while loop is used when you don’t know the number of times you want to execute a block of code. For example, if you want to keep asking the user for input until they enter a valid value, you can use a while loop like this:\n",
    "\n",
    "while True:\n",
    "    value = input(\"Enter a number between 1 and 10: \")\n",
    "    if value.isdigit() and 1 <= int(value) <= 10:\n",
    "        break\n",
    "    else:\n",
    "        print(\"Invalid input. Please try again.\")"
   ]
  },
  {
   "cell_type": "code",
   "execution_count": null,
   "id": "8a16428b-bad5-4348-8ae8-6a5822e21fb8",
   "metadata": {},
   "outputs": [],
   "source": [
    "Q2. Write a python program to print the sum and product of the first 10 natural numbers using for and while loop.\n",
    "Answer- Using a for loop:\n",
    "    # Sum and product of the first 10 natural numbers using for loop\n",
    "\n",
    "sum = 0\n",
    "product = 1\n",
    "\n",
    "# loop through the first 10 natural numbers\n",
    "for i in range(1, 11):\n",
    "    sum += i\n",
    "    product *= i\n",
    "\n",
    "print(\"Sum of the first 10 natural numbers:\", sum)\n",
    "print(\"Product of the first 10 natural numbers:\", product)\n",
    "\n",
    "\n",
    "Using a while loop:\n",
    "\n",
    "    # Sum and product of the first 10 natural numbers using while loop\n",
    "\n",
    "sum = 0\n",
    "product = 1\n",
    "i = 1\n",
    "\n",
    "# loop through the first 10 natural numbers\n",
    "while i <= 10:\n",
    "    sum += i\n",
    "    product *= i\n",
    "    i += 1\n",
    "\n",
    "print(\"Sum of the first 10 natural numbers:\", sum)\n",
    "print(\"Product of the first 10 natural numbers:\", product)\n"
   ]
  },
  {
   "cell_type": "code",
   "execution_count": null,
   "id": "0a71a896-53b4-4ad9-90cb-d5d8bf859634",
   "metadata": {},
   "outputs": [],
   "source": [
    "Q3."
   ]
  },
  {
   "cell_type": "code",
   "execution_count": null,
   "id": "acbaac3b-5d30-4168-93c8-a3692e9462a3",
   "metadata": {},
   "outputs": [],
   "source": [
    "units =input(\"enter your units\")\n",
    "if units==(0,100) :\n",
    "    print(\"user will be chargeed Rs.4.5 per unit\")\n",
    "elif units==(101,200) :\n",
    "    print(\"user will be charged Rs.6 per unit\")\n",
    "elif units==(201,300) :\n",
    "    print(\"user will be charged Rs. 10 per unit \")\n",
    "else :\n",
    "    print(\"user will be charged Rs.20 per unit\")"
   ]
  },
  {
   "cell_type": "code",
   "execution_count": null,
   "id": "ee554a31-c66a-4570-b324-036cd11aad19",
   "metadata": {},
   "outputs": [],
   "source": [
    "Q4."
   ]
  },
  {
   "cell_type": "code",
   "execution_count": null,
   "id": "2ba210e0-f3f1-4c2b-a43c-ee508de57e25",
   "metadata": {},
   "outputs": [],
   "source": [
    "Answer- Using for loop:\n",
    "    \n",
    "    cubes = []\n",
    "for num in range(1, 101):\n",
    "    cube = num**3\n",
    "    if cube % 4 == 0 or cube % 5 == 0:\n",
    "        cubes.append(num)\n",
    "print(cubes)\n",
    "\n",
    "Using while loop:\n",
    "    cubes = []\n",
    "num = 1\n",
    "while num <= 100:\n",
    "    cube = num**3\n",
    "    if cube % 4 == 0 or cube % 5 == 0:\n",
    "        cubes.append(num)\n",
    "    num += 1\n",
    "\n",
    "print(cubes)\n"
   ]
  },
  {
   "cell_type": "code",
   "execution_count": null,
   "id": "4a8b334f-5512-4d92-8661-a2682e5d0f51",
   "metadata": {},
   "outputs": [],
   "source": [
    "Q5."
   ]
  },
  {
   "cell_type": "code",
   "execution_count": null,
   "id": "6b804d7b-5b20-4b0b-ba3d-e2f4e6a01665",
   "metadata": {},
   "outputs": [],
   "source": [
    "string = \"I want to become a data scientist\"\n",
    "vowels = 'aeiouAEIOU'\n",
    "\n",
    "# using list comprehension to filter vowels from the string\n",
    "filtered_vowels = [char for char in string if char in vowels]\n",
    "\n",
    "# counting the number of filtered vowels using len() function\n",
    "vowel_count = len(filtered_vowels)\n",
    "\n",
    "print(\"Filtered vowels: \", filtered_vowels)\n",
    "print(\"Vowel count: \", vowel_count)\n"
   ]
  },
  {
   "cell_type": "code",
   "execution_count": null,
   "id": "38bc2c66-ce5d-4b2e-985c-9852678e91bc",
   "metadata": {},
   "outputs": [],
   "source": [
    "string = \"I want to become a data scientist\"\n",
    "vowels = 'aeiouAEIOU'\n",
    "\n",
    "# using list comprehension to filter vowels from the string\n",
    "filtered_vowels = [char for char in string if char in vowels]\n",
    "\n",
    "# counting the number of filtered vowels using len() function\n",
    "vowel_count = len(fil\n"
   ]
  },
  {
   "cell_type": "code",
   "execution_count": null,
   "id": "1fa4ce9b-aba9-454b-b6ea-7a75dcda5f03",
   "metadata": {},
   "outputs": [],
   "source": []
  }
 ],
 "metadata": {
  "kernelspec": {
   "display_name": "Python 3 (ipykernel)",
   "language": "python",
   "name": "python3"
  },
  "language_info": {
   "codemirror_mode": {
    "name": "ipython",
    "version": 3
   },
   "file_extension": ".py",
   "mimetype": "text/x-python",
   "name": "python",
   "nbconvert_exporter": "python",
   "pygments_lexer": "ipython3",
   "version": "3.10.8"
  }
 },
 "nbformat": 4,
 "nbformat_minor": 5
}
